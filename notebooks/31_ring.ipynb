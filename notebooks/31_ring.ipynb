{
 "cells": [
  {
   "cell_type": "markdown",
   "id": "0",
   "metadata": {},
   "source": [
    "# Ring filter\n",
    "\n",
    "## Calculations\n",
    "\n",
    "For a ring resonator we need to define:\n",
    "\n",
    "Optical parameters:\n",
    "\n",
    "- coupling coefficient: will define resonance extinction ratio for a particular ring loss.\n",
    "- Free spectral range.\n",
    "\n",
    "Electrical parameters:\n",
    "\n",
    "- VpiL\n",
    "- Resistance"
   ]
  },
  {
   "cell_type": "code",
   "execution_count": null,
   "id": "1",
   "metadata": {},
   "outputs": [],
   "source": [
    "import gdsfactory as gf\n",
    "import numpy as np\n",
    "\n",
    "\n",
    "def ring(\n",
    "    wl: np.ndarray,\n",
    "    wl0: float,\n",
    "    neff: float,\n",
    "    ng: float,\n",
    "    ring_length: float,\n",
    "    coupling: float,\n",
    "    loss: float,\n",
    ") -> np.ndarray:\n",
    "    \"\"\"Returns Frequency Domain Response of an all pass filter.\n",
    "\n",
    "    Args:\n",
    "        wl: wavelength in  um.\n",
    "        wl0: center wavelength at which neff and ng are defined.\n",
    "        neff: effective index.\n",
    "        ng: group index.\n",
    "        ring_length: in um.\n",
    "        coupling: coupling coefficient.\n",
    "        loss: dB/um.\n",
    "    \"\"\"\n",
    "    transmission = 1 - coupling\n",
    "    neff_wl = (\n",
    "        neff + (wl0 - wl) * (ng - neff) / wl0\n",
    "    )  # we expect a linear behavior with respect to wavelength\n",
    "    out = np.sqrt(transmission) - 10 ** (-loss * ring_length / 20.0) * np.exp(\n",
    "        2j * np.pi * neff_wl * ring_length / wl\n",
    "    )\n",
    "    out /= 1 - np.sqrt(transmission) * 10 ** (-loss * ring_length / 20.0) * np.exp(\n",
    "        2j * np.pi * neff_wl * ring_length / wl\n",
    "    )\n",
    "    return abs(out) ** 2\n",
    "\n",
    "\n",
    "if __name__ == \"__main__\":\n",
    "    import matplotlib.pyplot as plt\n",
    "\n",
    "    loss = 0.03  # [dB/μm] (alpha) waveguide loss\n",
    "    neff = 2.46  # Effective index of the waveguides\n",
    "    wl0 = 1.55  # [μm] the wavelength at which neff and ng are defined\n",
    "    radius = 5\n",
    "    ring_length = 2 * np.pi * radius  # [μm] Length of the ring\n",
    "    coupling = 0.5  # [] coupling of the coupler\n",
    "    wl = np.linspace(1.5, 1.6, 1000)  # [μm] Wavelengths to sweep over\n",
    "    wl = np.linspace(1.55, 1.60, 1000)  # [μm] Wavelengths to sweep over\n",
    "    ngs = [4.182551, 4.169563, 4.172917]\n",
    "    thicknesses = [210, 220, 230]\n",
    "\n",
    "    # widths = np.array([0.4, 0.45, 0.5, 0.55, 0.6])\n",
    "    # ngs = np.array([4.38215238, 4.27254985, 4.16956338, 4.13283219, 4.05791982])\n",
    "\n",
    "    widths = np.array([0.495, 0.5, 0.505])\n",
    "    neffs = np.array([2.40197253, 2.46586378, 2.46731758])\n",
    "    ng = 4.2  # Group index of the waveguides\n",
    "\n",
    "    for width, neff in zip(widths, neffs):\n",
    "        p = ring(\n",
    "            wl=wl,\n",
    "            wl0=wl0,\n",
    "            neff=neff,\n",
    "            ng=ng,\n",
    "            ring_length=ring_length,\n",
    "            coupling=coupling,\n",
    "            loss=loss,\n",
    "        )\n",
    "        plt.plot(wl, p, label=f\"{int(width*1e3)}nm\")\n",
    "\n",
    "    plt.title(\"ring resonator vs waveguide width\")\n",
    "    plt.xlabel(\"wavelength (um)\")\n",
    "    plt.ylabel(\"Power Transmission\")\n",
    "    plt.grid()\n",
    "    plt.legend()\n",
    "    plt.show()"
   ]
  },
  {
   "cell_type": "markdown",
   "id": "2",
   "metadata": {},
   "source": [
    "## Layout\n",
    "\n",
    "gdsfactory easily enables you to layout Component with as many levels of hierarchy as you need.\n",
    "\n",
    "A `Component` is a canvas where we can add polygons, references to other components or ports.\n",
    "\n",
    "Lets add two references in a component."
   ]
  },
  {
   "cell_type": "code",
   "execution_count": null,
   "id": "3",
   "metadata": {},
   "outputs": [],
   "source": [
    "import toolz\n",
    "\n",
    "c = gf.components.ring_single_heater(gap=0.2, radius=10, length_x=4)\n",
    "c.plot()"
   ]
  },
  {
   "cell_type": "code",
   "execution_count": null,
   "id": "4",
   "metadata": {},
   "outputs": [],
   "source": [
    "scene = c.to_3d()\n",
    "scene.show()"
   ]
  },
  {
   "cell_type": "markdown",
   "id": "5",
   "metadata": {},
   "source": [
    "Lets define a ring function that also accepts other component specs for the subcomponents (straight, coupler, bend)"
   ]
  },
  {
   "cell_type": "code",
   "execution_count": null,
   "id": "6",
   "metadata": {},
   "outputs": [],
   "source": [
    "ring = gf.components.ring_single_heater(\n",
    "    gap=0.2, radius=10, length_x=4, via_stack_offset=(2, 0)\n",
    ")\n",
    "ring_with_grating_couplers = gf.routing.add_fiber_array(ring)\n",
    "ring_with_grating_couplers.plot()"
   ]
  },
  {
   "cell_type": "code",
   "execution_count": null,
   "id": "7",
   "metadata": {},
   "outputs": [],
   "source": [
    "port_names = [\"l_e1\", \"r_e3\"]\n",
    "port_names = [\"l_e4\", \"r_e4\"]\n",
    "c = gf.routing.add_pads_top(\n",
    "    ring,\n",
    "    port_names=port_names,\n",
    ")\n",
    "c = gf.routing.add_fiber_array(c)\n",
    "c"
   ]
  },
  {
   "cell_type": "markdown",
   "id": "8",
   "metadata": {},
   "source": [
    "## Top reticle assembly\n",
    "\n",
    "Once you have your components and circuits defined, you can add them into a top reticle Component for fabrication.\n",
    "\n",
    "You need to consider:\n",
    "\n",
    "- what design variations do you want to include in the mask? You need to define your Design Of Experiment or DOE\n",
    "- obey DRC (Design rule checking) foundry rules for manufacturability. Foundry usually provides those rules for each layer (min width, min space, min density, max density)\n",
    "- make sure you will be able to test te devices after fabrication. Obey DFT (design for testing) rules. For example, if your test setup works only for fiber array, what is the fiber array spacing (127 or 250um?)\n",
    "- if you plan to package your device, make sure you follow your packaging guidelines from your packaging house (min pad size, min pad pitch, max number of rows for wire bonding ...)"
   ]
  },
  {
   "cell_type": "code",
   "execution_count": null,
   "id": "9",
   "metadata": {},
   "outputs": [],
   "source": [
    "nm = 1e-3\n",
    "ring_te = toolz.compose(gf.routing.add_fiber_array, gf.components.ring_single)\n",
    "rings_te = []\n",
    "\n",
    "for radius in [10, 20, 50]:\n",
    "    ring = gf.c.ring_single(radius=radius)\n",
    "    ring_te = gf.routing.add_fiber_array(ring)\n",
    "    ring_te.name = f\"ring_{radius}\"\n",
    "    rings_te.append(ring_te)\n",
    "\n",
    "rings = gf.grid(rings_te)\n",
    "\n",
    "\n",
    "@gf.cell\n",
    "def reticle(size=(1000, 1000)):\n",
    "    c = gf.Component()\n",
    "    r = c << rings\n",
    "    m = c << gf.components.pack_doe(\n",
    "        gf.components.mzi,\n",
    "        settings=dict(delta_length=[100, 200]),\n",
    "        function=gf.routing.add_fiber_array,\n",
    "    )\n",
    "    m.dxmin = r.dxmax + 10\n",
    "    m.dymin = r.dymin\n",
    "    c << gf.components.seal_ring(c)\n",
    "    return c\n",
    "\n",
    "\n",
    "m = reticle()\n",
    "m"
   ]
  },
  {
   "cell_type": "code",
   "execution_count": null,
   "id": "10",
   "metadata": {},
   "outputs": [],
   "source": [
    "nm = 1e-3\n",
    "ring_te = toolz.compose(gf.routing.add_fiber_array, gf.components.ring_single)\n",
    "gaps = [210 * nm, 220 * nm, 230 * nm]\n",
    "rings = []\n",
    "port_names = [\"l_e4\", \"r_e4\"]\n",
    "\n",
    "for gap in gaps:\n",
    "    ring = gf.c.ring_single_heater(gap=gap)\n",
    "    ring_pads = gf.routing.add_pads_top(ring, port_names=port_names)\n",
    "    ring_te = gf.routing.add_fiber_array(ring_pads)\n",
    "    ring_te.name = f\"ring_{gap}\"\n",
    "    rings.append(ring_te)\n",
    "\n",
    "\n",
    "def reticle(size=(1000, 1000)):\n",
    "    c = gf.Component()\n",
    "    p = c << gf.pack(rings)[0]\n",
    "    c.add_ports(p.ports)\n",
    "    c << gf.components.seal_ring(c)\n",
    "    return c\n",
    "\n",
    "\n",
    "m = reticle()\n",
    "m"
   ]
  },
  {
   "cell_type": "code",
   "execution_count": null,
   "id": "11",
   "metadata": {},
   "outputs": [],
   "source": [
    "gdspath = m.write_gds(gdspath=\"mask.gds\")"
   ]
  },
  {
   "cell_type": "code",
   "execution_count": null,
   "id": "12",
   "metadata": {},
   "outputs": [],
   "source": [
    "m.pprint_ports()"
   ]
  },
  {
   "cell_type": "markdown",
   "id": "13",
   "metadata": {},
   "source": [
    "You can also write the test sequence in CSV from the component "
   ]
  },
  {
   "cell_type": "code",
   "execution_count": null,
   "id": "14",
   "metadata": {},
   "outputs": [],
   "source": [
    "df = gf.labels.get_test_manifest(m)\n",
    "df"
   ]
  },
  {
   "cell_type": "markdown",
   "id": "15",
   "metadata": {},
   "source": [
    "As you can see there are 6 devices with optical and electrical ports.\n",
    "\n",
    "You can turn each label into a test manifest [CSV file](https://docs.google.com/spreadsheets/d/1845m-XZM8tZ1tNd8GIvAaq7ZE-iha00XNWa0XrEOabc/edit#gid=138229318) to interface with your lab instrumentation functions.\n",
    "\n",
    "Each measurement will use a different measurement procedure and settings measurement_settings\n",
    "\n",
    "The default measurement settings for each functions can also be defined in a separate CSV file and easily editable with Excel or LibreOffice."
   ]
  },
  {
   "cell_type": "code",
   "execution_count": null,
   "id": "16",
   "metadata": {},
   "outputs": [],
   "source": [
    "df.to_csv(\"test_manifest.csv\")"
   ]
  },
  {
   "cell_type": "code",
   "execution_count": null,
   "id": "17",
   "metadata": {},
   "outputs": [],
   "source": [
    "from functools import partial\n",
    "\n",
    "add_fiber_array_optical_south_electrical_north = partial(\n",
    "    gf.components.add_fiber_array_optical_south_electrical_north,\n",
    "    pad=gf.c.pad,\n",
    "    grating_coupler=gf.c.grating_coupler_te,\n",
    "    cross_section_metal=\"metal_routing\",\n",
    ")\n",
    "\n",
    "\n",
    "def sample_reticle(grid: bool = False, **kwargs) -> gf.Component:\n",
    "    \"\"\"Returns MZI with TE grating couplers.\n",
    "\n",
    "    Args:\n",
    "        grid: if True returns components on a regular grid. False packs them as close as possible.\n",
    "        kwargs: passed to pack or grid.\n",
    "    \"\"\"\n",
    "    test_info_mzi_heaters = dict(\n",
    "        doe=\"mzis_heaters\",\n",
    "        analysis=\"mzi_heater\",\n",
    "        measurement=\"optical_loopback4_heater_sweep\",\n",
    "    )\n",
    "    test_info_ring_heaters = dict(\n",
    "        doe=\"ring_heaters\",\n",
    "        analysis=\"ring_heater\",\n",
    "        measurement=\"optical_loopback2_heater_sweep\",\n",
    "    )\n",
    "    spiral_info = dict(\n",
    "        doe=\"spirals_sc\",\n",
    "        measurement=\"optical_loopback4\",\n",
    "        analysis=\"optical_loopback4_spirals\",\n",
    "    )\n",
    "\n",
    "    mzis = []\n",
    "    rings = []\n",
    "    spirals = []\n",
    "\n",
    "    for length in [100, 200, 300]:\n",
    "        mzi = gf.components.mzi2x2_2x2_phase_shifter(\n",
    "            length_x=length, auto_rename_ports=False\n",
    "        )\n",
    "        mzi = add_fiber_array_optical_south_electrical_north(\n",
    "            mzi,\n",
    "            electrical_port_names=[\"top_l_e2\", \"top_r_e2\"],\n",
    "        )\n",
    "        mzi.name = f\"mzi_heater_{length}\"\n",
    "        mzi.info.update(test_info_mzi_heaters)\n",
    "        mzis.append(mzi)\n",
    "\n",
    "    for length_x in [10, 20, 30]:\n",
    "        ring = gf.components.ring_single_heater(length_x=length_x)\n",
    "        ring = add_fiber_array_optical_south_electrical_north(\n",
    "            ring,\n",
    "            electrical_port_names=[\"l_e2\", \"r_e2\"],\n",
    "        )\n",
    "        ring.info.update(test_info_ring_heaters)\n",
    "        ring.name = f\"ring_single_heater_{length_x}\"\n",
    "        rings.append(ring)\n",
    "\n",
    "    for length in [0, 100, 200]:\n",
    "        spiral = gf.c.spiral(length=length)\n",
    "        spiral = gf.routing.add_fiber_array(spiral)\n",
    "        spiral.name = f\"spiral_{length}\"\n",
    "        spiral.info.update(spiral_info)\n",
    "        spirals.append(spiral)\n",
    "\n",
    "    components = mzis + rings + spirals\n",
    "\n",
    "    if grid:\n",
    "        return gf.grid(components, name_ports_with_component_name=True, **kwargs)\n",
    "    c = gf.pack(components, **kwargs)\n",
    "    if len(c) > 1:\n",
    "        raise ValueError(f\"failed to pack into single group. Made {len(c)} groups.\")\n",
    "    return c[0]\n",
    "\n",
    "\n",
    "m = sample_reticle()\n",
    "m"
   ]
  },
  {
   "cell_type": "code",
   "execution_count": null,
   "id": "18",
   "metadata": {},
   "outputs": [],
   "source": [
    "m.pprint_ports()"
   ]
  },
  {
   "cell_type": "code",
   "execution_count": null,
   "id": "19",
   "metadata": {},
   "outputs": [],
   "source": [
    "df = gf.labels.get_test_manifest(m)\n",
    "df"
   ]
  }
 ],
 "metadata": {
  "jupytext": {
   "cell_metadata_filter": "vscode,-all",
   "custom_cell_magics": "kql",
   "encoding": "# -*- coding: utf-8 -*-",
   "notebook_metadata_filter": "-all"
  },
  "kernelspec": {
   "display_name": "Python 3 (ipykernel)",
   "language": "python",
   "name": "python3"
  },
  "language_info": {
   "codemirror_mode": {
    "name": "ipython",
    "version": 3
   },
   "file_extension": ".py",
   "mimetype": "text/x-python",
   "name": "python",
   "nbconvert_exporter": "python",
   "pygments_lexer": "ipython3",
   "version": "3.11.9"
  }
 },
 "nbformat": 4,
 "nbformat_minor": 5
}
