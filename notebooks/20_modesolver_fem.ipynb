{
 "cells": [
  {
   "cell_type": "markdown",
   "id": "4da83263",
   "metadata": {},
   "source": [
    "# Finite-element mode solver\n",
    "\n",
    "You can mesh any component cross-section and solve the PDEs thanks to [femwell](https://helgegehring.github.io/femwell) mode - solver.\n",
    "\n",
    "Unlike other mode solvers, this actually uses the component geometry instead of a hardcoded geometry.\n",
    "\n",
    "You can directly compute the modes of a Gdsfactory cross-section (internally, it defines a \"uz\" mesh  perpendicular to a straight component with the provided cross-section).\n",
    "\n",
    "You can also downsample layers from the LayerStack, and modify both the cross-section and LayerStack  prior to simulation to change the geometry. You can also define refractive indices on the active PDK."
   ]
  },
  {
   "cell_type": "code",
   "execution_count": null,
   "id": "2ae0bc8a",
   "metadata": {},
   "outputs": [],
   "source": [
    "try:\n",
    "  import google.colab\n",
    "  is_running_on_colab = True\n",
    "  !pip install gdsfactory gplugins[femwell] > /dev/null\n",
    "  !apt install python3-gmsh gmsh > /dev/null\n",
    "  \n",
    "except ImportError:\n",
    "  is_running_on_colab = False"
   ]
  },
  {
   "cell_type": "code",
   "execution_count": null,
   "id": "5268b52f",
   "metadata": {},
   "outputs": [],
   "source": [
    "import matplotlib.pyplot as plt\n",
    "import gdsfactory as gf\n",
    "from tqdm.auto import tqdm\n",
    "import numpy as np\n",
    "\n",
    "from gdsfactory.technology import LayerStack\n",
    "from gdsfactory.cross_section import rib\n",
    "from gdsfactory.generic_tech import LAYER_STACK\n",
    "\n",
    "from skfem.io.meshio import from_meshio\n",
    "\n",
    "from femwell.maxwell.waveguide import compute_modes\n",
    "from femwell.visualization import plot_domains\n",
    "\n",
    "import sys\n",
    "import logging\n",
    "from rich.logging import RichHandler\n",
    "import gdsfactory as gf\n",
    "from gdsfactory.generic_tech import get_generic_pdk\n",
    "\n",
    "from gplugins.gmsh import get_mesh\n",
    "\n",
    "from collections import OrderedDict\n",
    "\n",
    "import matplotlib.pyplot as plt\n",
    "import numpy as np\n",
    "import shapely\n",
    "import shapely.affinity\n",
    "from scipy.constants import epsilon_0, speed_of_light\n",
    "from shapely.ops import clip_by_rect\n",
    "from skfem import Basis, ElementTriP0\n",
    "from skfem.io.meshio import from_meshio\n",
    "\n",
    "from femwell.maxwell.waveguide import compute_modes\n",
    "from femwell.mesh import mesh_from_OrderedDict\n",
    "from femwell.visualization import plot_domains\n",
    "\n",
    "gf.config.rich_output()\n",
    "PDK = get_generic_pdk()\n",
    "PDK.activate()\n",
    "\n",
    "logger = logging.getLogger()\n",
    "logger.removeHandler(sys.stderr)\n",
    "logging.basicConfig(level=\"WARNING\", datefmt=\"[%X]\", handlers=[RichHandler()])"
   ]
  },
  {
   "cell_type": "markdown",
   "id": "fe127568",
   "metadata": {},
   "source": [
    "First we choose a component to simulate. Here, a straight strip waveguide:"
   ]
  },
  {
   "cell_type": "code",
   "execution_count": null,
   "id": "ade309cf",
   "metadata": {},
   "outputs": [],
   "source": [
    "xs = gf.cross_section.strip(width=1)\n",
    "\n",
    "c = gf.components.straight(cross_section=xs)\n",
    "c"
   ]
  },
  {
   "cell_type": "markdown",
   "id": "e7d7e535",
   "metadata": {},
   "source": [
    "Then we choose a Layer Stack. Here, we simply downsample the generic stack:"
   ]
  },
  {
   "cell_type": "code",
   "execution_count": null,
   "id": "ad29b80d",
   "metadata": {},
   "outputs": [],
   "source": [
    "filtered_layer_stack = LayerStack(\n",
    "    layers={\n",
    "        k: LAYER_STACK.layers[k]\n",
    "        for k in (\n",
    "            \"core\",\n",
    "            \"clad\",\n",
    "            \"slab90\",\n",
    "            \"box\",\n",
    "        )\n",
    "    }\n",
    ")"
   ]
  },
  {
   "cell_type": "markdown",
   "id": "02bf38b3",
   "metadata": {},
   "source": [
    "We can also change some of the values:"
   ]
  },
  {
   "cell_type": "code",
   "execution_count": null,
   "id": "2385ac76",
   "metadata": {},
   "outputs": [],
   "source": [
    "filtered_layer_stack.layers[\n",
    "    \"core\"\n",
    "].thickness = 0.22  # Perturb the layer_stack before simulating\n",
    "\n",
    "filtered_layer_stack.layers[\n",
    "    \"slab90\"\n",
    "].thickness = 0.09  # Perturb the layer_stack before simulating\n",
    "\n",
    "# When selecting resolutions, the names must match the keys of the layerstack\n",
    "# Here, choose a finer mesh inside and close to the core\n",
    "resolutions = {\n",
    "    \"core\": {\"resolution\": 0.02, \"DistMax\": 2, \"SizeMax\": 0.2},\n",
    "}"
   ]
  },
  {
   "cell_type": "markdown",
   "id": "27e0a338",
   "metadata": {},
   "source": [
    "Using gplugins, we quickly generate a cross-sectional mesh:"
   ]
  },
  {
   "cell_type": "code",
   "execution_count": null,
   "id": "56532903",
   "metadata": {},
   "outputs": [],
   "source": [
    "mesh_gmsh = get_mesh(component=c,\n",
    "                layer_stack=filtered_layer_stack,\n",
    "                type=\"uz\", # we want a cross-section\n",
    "                xsection_bounds=((1, -3),(1, 3)), # the line from which we take a cross-section\n",
    "                wafer_padding=3, # pad simulation domain 3 microns around the component\n",
    "                filename=\"mesh.msh\",\n",
    "                resolutions=resolutions,\n",
    "                default_characteristic_length=0.5,\n",
    "                )\n"
   ]
  },
  {
   "cell_type": "markdown",
   "id": "adc8f3e7",
   "metadata": {},
   "source": [
    "We can now throw this mesh into FEMWELL directly:"
   ]
  },
  {
   "cell_type": "code",
   "execution_count": null,
   "id": "fceeda94",
   "metadata": {},
   "outputs": [],
   "source": [
    "mesh = from_meshio(mesh_gmsh)\n",
    "mesh.draw().show()\n",
    "\n",
    "plot_domains(mesh)\n",
    "plt.show()"
   ]
  },
  {
   "cell_type": "markdown",
   "id": "77219d23",
   "metadata": {},
   "source": [
    "Assign material values"
   ]
  },
  {
   "cell_type": "code",
   "execution_count": null,
   "id": "304f4b5c",
   "metadata": {
    "lines_to_next_cell": 2
   },
   "outputs": [],
   "source": [
    "basis0 = Basis(mesh, ElementTriP0())\n",
    "epsilon = basis0.zeros()\n",
    "for subdomain, n in {\"core\": 3.45, \"box\": 1.444, \"clad\": 1.444}.items():\n",
    "    epsilon[basis0.get_dofs(elements=subdomain)] = n**2\n",
    "basis0.plot(epsilon, colorbar=True).show()"
   ]
  },
  {
   "cell_type": "markdown",
   "id": "426fec76",
   "metadata": {},
   "source": [
    "Solve for the modes:"
   ]
  },
  {
   "cell_type": "code",
   "execution_count": null,
   "id": "9d4c90f9",
   "metadata": {},
   "outputs": [],
   "source": [
    "wavelength = 1.55\n",
    "\n",
    "modes = compute_modes(basis0, epsilon, wavelength=wavelength, num_modes=2, order=2)"
   ]
  },
  {
   "cell_type": "markdown",
   "id": "ffd53117",
   "metadata": {},
   "source": [
    "You can use them as inputs to other [femwell mode solver functions](https://github.com/HelgeGehring/femwell/blob/main/femwell/mode_solver.py) to inspect or analyze the modes:"
   ]
  },
  {
   "cell_type": "code",
   "execution_count": null,
   "id": "633721b8",
   "metadata": {},
   "outputs": [],
   "source": [
    "print(modes[0].te_fraction)"
   ]
  },
  {
   "cell_type": "code",
   "execution_count": null,
   "id": "64b48ade",
   "metadata": {},
   "outputs": [],
   "source": [
    "modes[0].show(\"E\", part=\"real\")"
   ]
  },
  {
   "cell_type": "code",
   "execution_count": null,
   "id": "e07fb506",
   "metadata": {},
   "outputs": [],
   "source": [
    "modes[1].show(\"E\", part=\"real\")"
   ]
  }
 ],
 "metadata": {
  "jupytext": {
   "cell_metadata_filter": "-all",
   "custom_cell_magics": "kql",
   "encoding": "# -*- coding: utf-8 -*-",
   "notebook_metadata_filter": "-all"
  },
  "kernelspec": {
   "display_name": "Python 3 (ipykernel)",
   "language": "python",
   "name": "python3"
  },
  "language_info": {
   "codemirror_mode": {
    "name": "ipython",
    "version": 3
   },
   "file_extension": ".py",
   "mimetype": "text/x-python",
   "name": "python",
   "nbconvert_exporter": "python",
   "pygments_lexer": "ipython3",
   "version": "3.11.7"
  }
 },
 "nbformat": 4,
 "nbformat_minor": 5
}
